{
 "cells": [
  {
   "cell_type": "code",
   "execution_count": 2,
   "metadata": {},
   "outputs": [
    {
     "name": "stdout",
     "output_type": "stream",
     "text": [
      "The mean of given marks awarded is = 6.85\n",
      "The median of given marks awarded is = 7.0\n",
      "The mode of given marks awarded is = 7\n",
      "The Standard deviation of given marks awarded is = 1.5898113095584647\n"
     ]
    }
   ],
   "source": [
    "# Problem Statement 1\n",
    "\n",
    "import numpy as np\n",
    "from statistics import mode\n",
    "marks_awarded = [6,7,5,7,7,8,7,6,9,7,4,10,6,8,8,9,5,6,4,8]\n",
    "\n",
    "marks_mean = np.mean(marks_awarded)\n",
    "marks_median = np.median(marks_awarded)\n",
    "marks_mode = mode(marks_awarded)\n",
    "marks_std = np.std(marks_awarded)\n",
    "\n",
    "\n",
    "print (\"The mean of given marks awarded is =\",marks_mean)\n",
    "print (\"The median of given marks awarded is =\",marks_median)\n",
    "print (\"The mode of given marks awarded is =\",marks_mode)\n",
    "print (\"The Standard deviation of given marks awarded is =\",marks_std)"
   ]
  },
  {
   "cell_type": "code",
   "execution_count": 3,
   "metadata": {},
   "outputs": [
    {
     "name": "stdout",
     "output_type": "stream",
     "text": [
      "The mean of given calls for roadside service is = 107.51428571428572\n",
      "The median of given calls for roadside service is = 100.0\n",
      "The mode of given calls for roadside service is = 75\n",
      "The Standard deviation of given calls for roadside service is = 38.77287080168403\n"
     ]
    }
   ],
   "source": [
    "# Problem Statement 2\n",
    "\n",
    "calls = [28, 122, 217, 130, 120, 86, 80, 90, 140, 120, 70, 40, 145, 113, 90, 68, 174, 194, 170, 100, 75, 104, 97, 75,\n",
    "123, 100, 75, 104, 97, 75, 123, 100, 89, 120, 109]\n",
    "\n",
    "calls_mean = np.mean(calls)\n",
    "calls_median = np.median(calls)\n",
    "calls_mode = mode(calls)\n",
    "calls_std = np.std(calls)\n",
    "\n",
    "\n",
    "print (\"The mean of given calls for roadside service is =\",calls_mean)\n",
    "print (\"The median of given calls for roadside service is =\",calls_median)\n",
    "print (\"The mode of given calls for roadside service is =\",calls_mode)\n",
    "print (\"The Standard deviation of given calls for roadside service is =\",calls_std)"
   ]
  },
  {
   "cell_type": "code",
   "execution_count": 5,
   "metadata": {},
   "outputs": [
    {
     "name": "stdout",
     "output_type": "stream",
     "text": [
      "The mean num of workouts in a week is = 2.15\n",
      "The variance for num of workouts in a week is = 1.2275\n"
     ]
    }
   ],
   "source": [
    "# Problem Statement 3\n",
    "\n",
    "x = [0, 1, 2, 3, 4, 5]\n",
    "f_x = [0.09, 0.15, 0.40, 0.25, 0.10, 0.01]\n",
    "\n",
    "mean = 0\n",
    "mean_2 = 0\n",
    "\n",
    "for num in x:\n",
    "    mean += x[num] * f_x[num]\n",
    "    mean_2 += (x[num]**2) * f_x[num]\n",
    "\n",
    "variance = mean_2 - (mean ** 2)\n",
    "print(\"The mean num of workouts in a week is =\",mean)\n",
    "print(\"The variance for num of workouts in a week is =\",variance)"
   ]
  },
  {
   "cell_type": "code",
   "execution_count": null,
   "metadata": {},
   "outputs": [],
   "source": []
  }
 ],
 "metadata": {
  "kernelspec": {
   "display_name": "Python 3",
   "language": "python",
   "name": "python3"
  },
  "language_info": {
   "codemirror_mode": {
    "name": "ipython",
    "version": 3
   },
   "file_extension": ".py",
   "mimetype": "text/x-python",
   "name": "python",
   "nbconvert_exporter": "python",
   "pygments_lexer": "ipython3",
   "version": "3.7.6"
  },
  "toc": {
   "base_numbering": 1,
   "nav_menu": {},
   "number_sections": true,
   "sideBar": true,
   "skip_h1_title": false,
   "title_cell": "Table of Contents",
   "title_sidebar": "Contents",
   "toc_cell": false,
   "toc_position": {},
   "toc_section_display": true,
   "toc_window_display": false
  }
 },
 "nbformat": 4,
 "nbformat_minor": 4
}
