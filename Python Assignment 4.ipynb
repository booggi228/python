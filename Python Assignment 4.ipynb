{
 "cells": [
  {
   "cell_type": "code",
   "execution_count": 84,
   "metadata": {},
   "outputs": [
    {
     "name": "stdout",
     "output_type": "stream",
     "text": [
      "7.483314773547883\n"
     ]
    }
   ],
   "source": [
    "class Triangle:\n",
    "    def __init__(self, a, b, c):\n",
    "        self.a = a\n",
    "        self.b = b\n",
    "        self.c = c\n",
    "    def area_of_triangle(self):\n",
    "        s = (self.a + self.b + self.c)/2\n",
    "        K = (s*(s-self.a)*(s-self.b)*(s-self.c))**0.5\n",
    "        return K\n",
    "    \n",
    "area = Triangle(3,5,6)\n",
    "print(area.area_of_triangle())"
   ]
  },
  {
   "cell_type": "code",
   "execution_count": 82,
   "metadata": {},
   "outputs": [
    {
     "data": {
      "text/plain": [
       "[1, 2, 3, 4]"
      ]
     },
     "execution_count": 82,
     "metadata": {},
     "output_type": "execute_result"
    }
   ],
   "source": [
    "def filter_long_words(list_of_words, n):\n",
    "    if len(list(list_of_words)) > len(str(int(n))):\n",
    "        return list_of_words\n",
    "    else:\n",
    "        return None\n",
    "\n",
    "filter_long_words([1,2,3,4], 123)"
   ]
  },
  {
   "cell_type": "code",
   "execution_count": 111,
   "metadata": {},
   "outputs": [
    {
     "name": "stdout",
     "output_type": "stream",
     "text": [
      "[2, 3, 4]\n"
     ]
    }
   ],
   "source": [
    "def count_list_len(list_of_words):\n",
    "    new = []\n",
    "    for i in list_of_words:\n",
    "        new.append(len(i))\n",
    "    return new\n",
    "  \n",
    "print(count_list_len(['ab','cde','erty']))"
   ]
  },
  {
   "cell_type": "code",
   "execution_count": 177,
   "metadata": {},
   "outputs": [
    {
     "name": "stdout",
     "output_type": "stream",
     "text": [
      "True\n",
      "False\n"
     ]
    }
   ],
   "source": [
    "def check_vowel(word):\n",
    "    vowel = ['a','e','o','u','i','A','E','O','U','I']\n",
    "    if word in vowel and len(word)==1:\n",
    "        return True\n",
    "    else:\n",
    "        return False\n",
    "\n",
    "print(check_vowel('i'))\n",
    "print(check_vowel('b'))    "
   ]
  }
 ],
 "metadata": {
  "kernelspec": {
   "display_name": "Python 3",
   "language": "python",
   "name": "python3"
  },
  "language_info": {
   "codemirror_mode": {
    "name": "ipython",
    "version": 3
   },
   "file_extension": ".py",
   "mimetype": "text/x-python",
   "name": "python",
   "nbconvert_exporter": "python",
   "pygments_lexer": "ipython3",
   "version": "3.7.6"
  },
  "toc": {
   "base_numbering": 1,
   "nav_menu": {},
   "number_sections": true,
   "sideBar": true,
   "skip_h1_title": false,
   "title_cell": "Table of Contents",
   "title_sidebar": "Contents",
   "toc_cell": false,
   "toc_position": {},
   "toc_section_display": true,
   "toc_window_display": false
  }
 },
 "nbformat": 4,
 "nbformat_minor": 4
}
