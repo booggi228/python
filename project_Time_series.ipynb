{
  "nbformat": 4,
  "nbformat_minor": 0,
  "metadata": {
    "colab": {
      "name": "project Time_series.ipynb",
      "provenance": [],
      "collapsed_sections": [],
      "mount_file_id": "1_SuQlWsfdAl3qoJJFedAC4NBcbONijpn",
      "authorship_tag": "ABX9TyOJwZWz/LIoGMazeW96TowZ"
    },
    "kernelspec": {
      "name": "python3",
      "display_name": "Python 3"
    }
  },
  "cells": [
    {
      "cell_type": "code",
      "metadata": {
        "id": "tPpY2M_aleru"
      },
      "source": [
        "import pandas as pd\r\n",
        "import numpy as np\r\n",
        "import matplotlib.pyplot as plt\r\n",
        "from pandas.plotting import autocorrelation_plot \r\n",
        "from statsmodels.graphics.tsaplots import plot_pacf\r\n",
        "from statsmodels.tsa.arima_model import ARIMA, ARMAResults\r\n",
        "import datetime\r\n",
        "import sys\r\n",
        "import seaborn as sns\r\n",
        "import statsmodels\r\n",
        "import statsmodels.stats.diagnostic as diag\r\n",
        "from statsmodels.tsa.stattools import adfuller\r\n",
        "from scipy.stats.mstats import normaltest\r\n",
        "from matplotlib.pyplot import acorr\r\n",
        "plt.style.use('fivethirtyeight')\r\n",
        "%matplotlib inline"
      ],
      "execution_count": 23,
      "outputs": []
    },
    {
      "cell_type": "code",
      "metadata": {
        "id": "eOYBdeXwsPbN"
      },
      "source": [
        "df = pd.read_csv('/content/drive/MyDrive/data_stocks.csv')"
      ],
      "execution_count": 3,
      "outputs": []
    },
    {
      "cell_type": "code",
      "metadata": {
        "colab": {
          "base_uri": "https://localhost:8080/",
          "height": 246
        },
        "id": "DVgipespsf4E",
        "outputId": "fe82c764-0f48-4be7-c4ec-cef59e6fa768"
      },
      "source": [
        "df.head()"
      ],
      "execution_count": 4,
      "outputs": [
        {
          "output_type": "execute_result",
          "data": {
            "text/html": [
              "<div>\n",
              "<style scoped>\n",
              "    .dataframe tbody tr th:only-of-type {\n",
              "        vertical-align: middle;\n",
              "    }\n",
              "\n",
              "    .dataframe tbody tr th {\n",
              "        vertical-align: top;\n",
              "    }\n",
              "\n",
              "    .dataframe thead th {\n",
              "        text-align: right;\n",
              "    }\n",
              "</style>\n",
              "<table border=\"1\" class=\"dataframe\">\n",
              "  <thead>\n",
              "    <tr style=\"text-align: right;\">\n",
              "      <th></th>\n",
              "      <th>DATE</th>\n",
              "      <th>SP500</th>\n",
              "      <th>NASDAQ.AAL</th>\n",
              "      <th>NASDAQ.AAPL</th>\n",
              "      <th>NASDAQ.ADBE</th>\n",
              "      <th>NASDAQ.ADI</th>\n",
              "      <th>NASDAQ.ADP</th>\n",
              "      <th>NASDAQ.ADSK</th>\n",
              "      <th>NASDAQ.AKAM</th>\n",
              "      <th>NASDAQ.ALXN</th>\n",
              "      <th>NASDAQ.AMAT</th>\n",
              "      <th>NASDAQ.AMD</th>\n",
              "      <th>NASDAQ.AMGN</th>\n",
              "      <th>NASDAQ.AMZN</th>\n",
              "      <th>NASDAQ.ATVI</th>\n",
              "      <th>NASDAQ.AVGO</th>\n",
              "      <th>NASDAQ.BBBY</th>\n",
              "      <th>NASDAQ.BIIB</th>\n",
              "      <th>NASDAQ.CA</th>\n",
              "      <th>NASDAQ.CBOE</th>\n",
              "      <th>NASDAQ.CELG</th>\n",
              "      <th>NASDAQ.CERN</th>\n",
              "      <th>NASDAQ.CHRW</th>\n",
              "      <th>NASDAQ.CHTR</th>\n",
              "      <th>NASDAQ.CINF</th>\n",
              "      <th>NASDAQ.CMCSA</th>\n",
              "      <th>NASDAQ.CME</th>\n",
              "      <th>NASDAQ.COST</th>\n",
              "      <th>NASDAQ.CSCO</th>\n",
              "      <th>NASDAQ.CSX</th>\n",
              "      <th>NASDAQ.CTAS</th>\n",
              "      <th>NASDAQ.CTSH</th>\n",
              "      <th>NASDAQ.CTXS</th>\n",
              "      <th>NASDAQ.DISCA</th>\n",
              "      <th>NASDAQ.DISCK</th>\n",
              "      <th>NASDAQ.DISH</th>\n",
              "      <th>NASDAQ.DLTR</th>\n",
              "      <th>NASDAQ.EA</th>\n",
              "      <th>NASDAQ.EBAY</th>\n",
              "      <th>NASDAQ.EQIX</th>\n",
              "      <th>...</th>\n",
              "      <th>NYSE.UA</th>\n",
              "      <th>NYSE.UAA</th>\n",
              "      <th>NYSE.UAL</th>\n",
              "      <th>NYSE.UDR</th>\n",
              "      <th>NYSE.UHS</th>\n",
              "      <th>NYSE.UNH</th>\n",
              "      <th>NYSE.UNM</th>\n",
              "      <th>NYSE.UNP</th>\n",
              "      <th>NYSE.UPS</th>\n",
              "      <th>NYSE.URI</th>\n",
              "      <th>NYSE.USB</th>\n",
              "      <th>NYSE.UTX</th>\n",
              "      <th>NYSE.V</th>\n",
              "      <th>NYSE.VAR</th>\n",
              "      <th>NYSE.VFC</th>\n",
              "      <th>NYSE.VLO</th>\n",
              "      <th>NYSE.VMC</th>\n",
              "      <th>NYSE.VNO</th>\n",
              "      <th>NYSE.VTR</th>\n",
              "      <th>NYSE.VZ</th>\n",
              "      <th>NYSE.WAT</th>\n",
              "      <th>NYSE.WEC</th>\n",
              "      <th>NYSE.WFC</th>\n",
              "      <th>NYSE.WHR</th>\n",
              "      <th>NYSE.WM</th>\n",
              "      <th>NYSE.WMB</th>\n",
              "      <th>NYSE.WMT</th>\n",
              "      <th>NYSE.WRK</th>\n",
              "      <th>NYSE.WU</th>\n",
              "      <th>NYSE.WY</th>\n",
              "      <th>NYSE.WYN</th>\n",
              "      <th>NYSE.XEC</th>\n",
              "      <th>NYSE.XEL</th>\n",
              "      <th>NYSE.XL</th>\n",
              "      <th>NYSE.XOM</th>\n",
              "      <th>NYSE.XRX</th>\n",
              "      <th>NYSE.XYL</th>\n",
              "      <th>NYSE.YUM</th>\n",
              "      <th>NYSE.ZBH</th>\n",
              "      <th>NYSE.ZTS</th>\n",
              "    </tr>\n",
              "  </thead>\n",
              "  <tbody>\n",
              "    <tr>\n",
              "      <th>0</th>\n",
              "      <td>1491226200</td>\n",
              "      <td>2363.6101</td>\n",
              "      <td>42.3300</td>\n",
              "      <td>143.6800</td>\n",
              "      <td>129.6300</td>\n",
              "      <td>82.040</td>\n",
              "      <td>102.2300</td>\n",
              "      <td>85.2200</td>\n",
              "      <td>59.760</td>\n",
              "      <td>121.52</td>\n",
              "      <td>38.99</td>\n",
              "      <td>14.61</td>\n",
              "      <td>164.630</td>\n",
              "      <td>888.5500</td>\n",
              "      <td>49.850</td>\n",
              "      <td>219.11</td>\n",
              "      <td>39.43</td>\n",
              "      <td>274.080</td>\n",
              "      <td>31.780</td>\n",
              "      <td>81.03</td>\n",
              "      <td>124.89</td>\n",
              "      <td>58.820</td>\n",
              "      <td>77.725</td>\n",
              "      <td>330.73</td>\n",
              "      <td>72.430</td>\n",
              "      <td>37.470</td>\n",
              "      <td>119.385</td>\n",
              "      <td>167.740</td>\n",
              "      <td>33.7400</td>\n",
              "      <td>46.6450</td>\n",
              "      <td>126.8600</td>\n",
              "      <td>59.720</td>\n",
              "      <td>83.5400</td>\n",
              "      <td>29.020</td>\n",
              "      <td>28.370</td>\n",
              "      <td>63.4900</td>\n",
              "      <td>78.4600</td>\n",
              "      <td>89.90</td>\n",
              "      <td>33.3975</td>\n",
              "      <td>400.9400</td>\n",
              "      <td>...</td>\n",
              "      <td>18.6100</td>\n",
              "      <td>19.8901</td>\n",
              "      <td>70.69</td>\n",
              "      <td>36.26</td>\n",
              "      <td>124.66</td>\n",
              "      <td>164.62</td>\n",
              "      <td>47.0400</td>\n",
              "      <td>106.27</td>\n",
              "      <td>107.65</td>\n",
              "      <td>124.5901</td>\n",
              "      <td>51.6200</td>\n",
              "      <td>112.36</td>\n",
              "      <td>89.35</td>\n",
              "      <td>91.130</td>\n",
              "      <td>55.21</td>\n",
              "      <td>66.5900</td>\n",
              "      <td>120.1300</td>\n",
              "      <td>100.35</td>\n",
              "      <td>65.07</td>\n",
              "      <td>48.730</td>\n",
              "      <td>156.390</td>\n",
              "      <td>60.46</td>\n",
              "      <td>55.70</td>\n",
              "      <td>171.83</td>\n",
              "      <td>73.08</td>\n",
              "      <td>29.62</td>\n",
              "      <td>72.1000</td>\n",
              "      <td>52.160</td>\n",
              "      <td>20.34</td>\n",
              "      <td>34.00</td>\n",
              "      <td>84.370</td>\n",
              "      <td>119.035</td>\n",
              "      <td>44.40</td>\n",
              "      <td>39.88</td>\n",
              "      <td>82.03</td>\n",
              "      <td>7.36</td>\n",
              "      <td>50.22</td>\n",
              "      <td>63.86</td>\n",
              "      <td>122.000</td>\n",
              "      <td>53.350</td>\n",
              "    </tr>\n",
              "    <tr>\n",
              "      <th>1</th>\n",
              "      <td>1491226260</td>\n",
              "      <td>2364.1001</td>\n",
              "      <td>42.3600</td>\n",
              "      <td>143.7000</td>\n",
              "      <td>130.3200</td>\n",
              "      <td>82.080</td>\n",
              "      <td>102.1400</td>\n",
              "      <td>85.6500</td>\n",
              "      <td>59.840</td>\n",
              "      <td>121.48</td>\n",
              "      <td>39.01</td>\n",
              "      <td>14.71</td>\n",
              "      <td>164.680</td>\n",
              "      <td>887.1173</td>\n",
              "      <td>49.940</td>\n",
              "      <td>219.98</td>\n",
              "      <td>39.68</td>\n",
              "      <td>273.990</td>\n",
              "      <td>31.780</td>\n",
              "      <td>81.21</td>\n",
              "      <td>124.99</td>\n",
              "      <td>58.495</td>\n",
              "      <td>77.940</td>\n",
              "      <td>330.73</td>\n",
              "      <td>72.040</td>\n",
              "      <td>37.540</td>\n",
              "      <td>118.810</td>\n",
              "      <td>167.776</td>\n",
              "      <td>33.8800</td>\n",
              "      <td>46.6100</td>\n",
              "      <td>126.8600</td>\n",
              "      <td>59.830</td>\n",
              "      <td>83.9400</td>\n",
              "      <td>29.140</td>\n",
              "      <td>28.400</td>\n",
              "      <td>63.4600</td>\n",
              "      <td>78.6200</td>\n",
              "      <td>89.73</td>\n",
              "      <td>33.3950</td>\n",
              "      <td>400.4000</td>\n",
              "      <td>...</td>\n",
              "      <td>18.5100</td>\n",
              "      <td>19.8901</td>\n",
              "      <td>70.77</td>\n",
              "      <td>36.26</td>\n",
              "      <td>124.82</td>\n",
              "      <td>164.39</td>\n",
              "      <td>47.0400</td>\n",
              "      <td>106.27</td>\n",
              "      <td>107.65</td>\n",
              "      <td>124.5901</td>\n",
              "      <td>51.5800</td>\n",
              "      <td>112.36</td>\n",
              "      <td>89.35</td>\n",
              "      <td>91.210</td>\n",
              "      <td>55.12</td>\n",
              "      <td>66.3550</td>\n",
              "      <td>120.1300</td>\n",
              "      <td>100.03</td>\n",
              "      <td>65.04</td>\n",
              "      <td>48.752</td>\n",
              "      <td>157.190</td>\n",
              "      <td>59.93</td>\n",
              "      <td>55.81</td>\n",
              "      <td>171.54</td>\n",
              "      <td>72.95</td>\n",
              "      <td>29.64</td>\n",
              "      <td>72.1800</td>\n",
              "      <td>52.245</td>\n",
              "      <td>20.32</td>\n",
              "      <td>34.07</td>\n",
              "      <td>84.370</td>\n",
              "      <td>119.035</td>\n",
              "      <td>44.11</td>\n",
              "      <td>39.88</td>\n",
              "      <td>82.03</td>\n",
              "      <td>7.38</td>\n",
              "      <td>50.22</td>\n",
              "      <td>63.74</td>\n",
              "      <td>121.770</td>\n",
              "      <td>53.350</td>\n",
              "    </tr>\n",
              "    <tr>\n",
              "      <th>2</th>\n",
              "      <td>1491226320</td>\n",
              "      <td>2362.6799</td>\n",
              "      <td>42.3100</td>\n",
              "      <td>143.6901</td>\n",
              "      <td>130.2250</td>\n",
              "      <td>82.030</td>\n",
              "      <td>102.2125</td>\n",
              "      <td>85.5100</td>\n",
              "      <td>59.795</td>\n",
              "      <td>121.93</td>\n",
              "      <td>38.91</td>\n",
              "      <td>14.64</td>\n",
              "      <td>164.905</td>\n",
              "      <td>887.5110</td>\n",
              "      <td>49.860</td>\n",
              "      <td>219.39</td>\n",
              "      <td>39.60</td>\n",
              "      <td>274.275</td>\n",
              "      <td>31.765</td>\n",
              "      <td>81.21</td>\n",
              "      <td>125.00</td>\n",
              "      <td>58.470</td>\n",
              "      <td>77.815</td>\n",
              "      <td>330.73</td>\n",
              "      <td>72.055</td>\n",
              "      <td>37.610</td>\n",
              "      <td>118.830</td>\n",
              "      <td>168.000</td>\n",
              "      <td>33.9000</td>\n",
              "      <td>46.8850</td>\n",
              "      <td>126.9576</td>\n",
              "      <td>59.905</td>\n",
              "      <td>83.9400</td>\n",
              "      <td>29.150</td>\n",
              "      <td>28.375</td>\n",
              "      <td>63.5250</td>\n",
              "      <td>78.6311</td>\n",
              "      <td>89.24</td>\n",
              "      <td>33.4100</td>\n",
              "      <td>401.9850</td>\n",
              "      <td>...</td>\n",
              "      <td>18.4397</td>\n",
              "      <td>19.7900</td>\n",
              "      <td>70.62</td>\n",
              "      <td>36.19</td>\n",
              "      <td>124.82</td>\n",
              "      <td>165.30</td>\n",
              "      <td>46.9800</td>\n",
              "      <td>106.38</td>\n",
              "      <td>107.31</td>\n",
              "      <td>124.7100</td>\n",
              "      <td>51.4600</td>\n",
              "      <td>112.13</td>\n",
              "      <td>89.16</td>\n",
              "      <td>91.080</td>\n",
              "      <td>55.09</td>\n",
              "      <td>66.2417</td>\n",
              "      <td>120.3368</td>\n",
              "      <td>100.39</td>\n",
              "      <td>65.08</td>\n",
              "      <td>48.720</td>\n",
              "      <td>157.070</td>\n",
              "      <td>60.08</td>\n",
              "      <td>55.64</td>\n",
              "      <td>171.55</td>\n",
              "      <td>72.98</td>\n",
              "      <td>29.67</td>\n",
              "      <td>72.3192</td>\n",
              "      <td>52.200</td>\n",
              "      <td>20.26</td>\n",
              "      <td>34.11</td>\n",
              "      <td>84.585</td>\n",
              "      <td>119.260</td>\n",
              "      <td>44.09</td>\n",
              "      <td>39.98</td>\n",
              "      <td>82.02</td>\n",
              "      <td>7.36</td>\n",
              "      <td>50.12</td>\n",
              "      <td>63.75</td>\n",
              "      <td>121.700</td>\n",
              "      <td>53.365</td>\n",
              "    </tr>\n",
              "    <tr>\n",
              "      <th>3</th>\n",
              "      <td>1491226380</td>\n",
              "      <td>2364.3101</td>\n",
              "      <td>42.3700</td>\n",
              "      <td>143.6400</td>\n",
              "      <td>130.0729</td>\n",
              "      <td>82.000</td>\n",
              "      <td>102.1400</td>\n",
              "      <td>85.4872</td>\n",
              "      <td>59.620</td>\n",
              "      <td>121.44</td>\n",
              "      <td>38.84</td>\n",
              "      <td>14.63</td>\n",
              "      <td>164.760</td>\n",
              "      <td>886.2700</td>\n",
              "      <td>49.915</td>\n",
              "      <td>219.30</td>\n",
              "      <td>39.57</td>\n",
              "      <td>273.590</td>\n",
              "      <td>31.830</td>\n",
              "      <td>81.13</td>\n",
              "      <td>124.73</td>\n",
              "      <td>58.420</td>\n",
              "      <td>77.950</td>\n",
              "      <td>330.73</td>\n",
              "      <td>72.140</td>\n",
              "      <td>37.620</td>\n",
              "      <td>118.680</td>\n",
              "      <td>168.200</td>\n",
              "      <td>33.8499</td>\n",
              "      <td>46.7000</td>\n",
              "      <td>126.7000</td>\n",
              "      <td>59.700</td>\n",
              "      <td>83.7064</td>\n",
              "      <td>29.125</td>\n",
              "      <td>28.350</td>\n",
              "      <td>63.5300</td>\n",
              "      <td>78.7060</td>\n",
              "      <td>89.17</td>\n",
              "      <td>33.3350</td>\n",
              "      <td>401.5000</td>\n",
              "      <td>...</td>\n",
              "      <td>18.3700</td>\n",
              "      <td>19.7875</td>\n",
              "      <td>70.62</td>\n",
              "      <td>36.00</td>\n",
              "      <td>124.82</td>\n",
              "      <td>165.16</td>\n",
              "      <td>46.8097</td>\n",
              "      <td>106.33</td>\n",
              "      <td>107.49</td>\n",
              "      <td>124.4889</td>\n",
              "      <td>51.3800</td>\n",
              "      <td>112.01</td>\n",
              "      <td>89.06</td>\n",
              "      <td>91.015</td>\n",
              "      <td>55.21</td>\n",
              "      <td>66.1700</td>\n",
              "      <td>120.3100</td>\n",
              "      <td>100.39</td>\n",
              "      <td>64.95</td>\n",
              "      <td>48.695</td>\n",
              "      <td>156.945</td>\n",
              "      <td>60.39</td>\n",
              "      <td>55.64</td>\n",
              "      <td>171.26</td>\n",
              "      <td>73.09</td>\n",
              "      <td>29.79</td>\n",
              "      <td>72.4300</td>\n",
              "      <td>52.140</td>\n",
              "      <td>20.20</td>\n",
              "      <td>33.97</td>\n",
              "      <td>84.460</td>\n",
              "      <td>119.260</td>\n",
              "      <td>44.25</td>\n",
              "      <td>39.99</td>\n",
              "      <td>82.02</td>\n",
              "      <td>7.35</td>\n",
              "      <td>50.16</td>\n",
              "      <td>63.88</td>\n",
              "      <td>121.700</td>\n",
              "      <td>53.380</td>\n",
              "    </tr>\n",
              "    <tr>\n",
              "      <th>4</th>\n",
              "      <td>1491226440</td>\n",
              "      <td>2364.8501</td>\n",
              "      <td>42.5378</td>\n",
              "      <td>143.6600</td>\n",
              "      <td>129.8800</td>\n",
              "      <td>82.035</td>\n",
              "      <td>102.0600</td>\n",
              "      <td>85.7001</td>\n",
              "      <td>59.620</td>\n",
              "      <td>121.60</td>\n",
              "      <td>38.93</td>\n",
              "      <td>14.67</td>\n",
              "      <td>164.850</td>\n",
              "      <td>886.5800</td>\n",
              "      <td>49.915</td>\n",
              "      <td>219.18</td>\n",
              "      <td>39.55</td>\n",
              "      <td>273.540</td>\n",
              "      <td>31.830</td>\n",
              "      <td>81.12</td>\n",
              "      <td>124.83</td>\n",
              "      <td>58.600</td>\n",
              "      <td>78.050</td>\n",
              "      <td>330.73</td>\n",
              "      <td>72.215</td>\n",
              "      <td>37.625</td>\n",
              "      <td>118.935</td>\n",
              "      <td>168.040</td>\n",
              "      <td>33.8400</td>\n",
              "      <td>46.8562</td>\n",
              "      <td>126.8900</td>\n",
              "      <td>59.500</td>\n",
              "      <td>84.0000</td>\n",
              "      <td>29.140</td>\n",
              "      <td>28.410</td>\n",
              "      <td>63.6344</td>\n",
              "      <td>78.5850</td>\n",
              "      <td>88.95</td>\n",
              "      <td>33.4000</td>\n",
              "      <td>399.7704</td>\n",
              "      <td>...</td>\n",
              "      <td>18.3850</td>\n",
              "      <td>19.7324</td>\n",
              "      <td>70.78</td>\n",
              "      <td>36.01</td>\n",
              "      <td>124.82</td>\n",
              "      <td>165.24</td>\n",
              "      <td>47.0200</td>\n",
              "      <td>106.56</td>\n",
              "      <td>107.48</td>\n",
              "      <td>125.2449</td>\n",
              "      <td>51.4347</td>\n",
              "      <td>112.23</td>\n",
              "      <td>89.10</td>\n",
              "      <td>91.000</td>\n",
              "      <td>55.32</td>\n",
              "      <td>66.1800</td>\n",
              "      <td>120.3600</td>\n",
              "      <td>100.11</td>\n",
              "      <td>64.84</td>\n",
              "      <td>48.630</td>\n",
              "      <td>157.160</td>\n",
              "      <td>60.18</td>\n",
              "      <td>55.68</td>\n",
              "      <td>171.18</td>\n",
              "      <td>72.99</td>\n",
              "      <td>29.71</td>\n",
              "      <td>72.4800</td>\n",
              "      <td>52.140</td>\n",
              "      <td>20.22</td>\n",
              "      <td>34.00</td>\n",
              "      <td>84.470</td>\n",
              "      <td>119.610</td>\n",
              "      <td>44.11</td>\n",
              "      <td>39.96</td>\n",
              "      <td>82.03</td>\n",
              "      <td>7.36</td>\n",
              "      <td>50.20</td>\n",
              "      <td>63.91</td>\n",
              "      <td>121.695</td>\n",
              "      <td>53.240</td>\n",
              "    </tr>\n",
              "  </tbody>\n",
              "</table>\n",
              "<p>5 rows × 502 columns</p>\n",
              "</div>"
            ],
            "text/plain": [
              "         DATE      SP500  NASDAQ.AAL  ...  NYSE.YUM  NYSE.ZBH  NYSE.ZTS\n",
              "0  1491226200  2363.6101     42.3300  ...     63.86   122.000    53.350\n",
              "1  1491226260  2364.1001     42.3600  ...     63.74   121.770    53.350\n",
              "2  1491226320  2362.6799     42.3100  ...     63.75   121.700    53.365\n",
              "3  1491226380  2364.3101     42.3700  ...     63.88   121.700    53.380\n",
              "4  1491226440  2364.8501     42.5378  ...     63.91   121.695    53.240\n",
              "\n",
              "[5 rows x 502 columns]"
            ]
          },
          "metadata": {
            "tags": []
          },
          "execution_count": 4
        }
      ]
    },
    {
      "cell_type": "code",
      "metadata": {
        "colab": {
          "base_uri": "https://localhost:8080/",
          "height": 197
        },
        "id": "DCDWu2jasiKC",
        "outputId": "f1291c45-ba74-4931-f3ba-119f416be09d"
      },
      "source": [
        "features = ['NASDAQ.AAPL','NASDAQ.ADP','NASDAQ.CBOE','NASDAQ.CSCO','NASDAQ.EBAY']\r\n",
        "col = ['DATE'] + features\r\n",
        "df1 = df[col]\r\n",
        "df1.head()"
      ],
      "execution_count": 6,
      "outputs": [
        {
          "output_type": "execute_result",
          "data": {
            "text/html": [
              "<div>\n",
              "<style scoped>\n",
              "    .dataframe tbody tr th:only-of-type {\n",
              "        vertical-align: middle;\n",
              "    }\n",
              "\n",
              "    .dataframe tbody tr th {\n",
              "        vertical-align: top;\n",
              "    }\n",
              "\n",
              "    .dataframe thead th {\n",
              "        text-align: right;\n",
              "    }\n",
              "</style>\n",
              "<table border=\"1\" class=\"dataframe\">\n",
              "  <thead>\n",
              "    <tr style=\"text-align: right;\">\n",
              "      <th></th>\n",
              "      <th>DATE</th>\n",
              "      <th>NASDAQ.AAPL</th>\n",
              "      <th>NASDAQ.ADP</th>\n",
              "      <th>NASDAQ.CBOE</th>\n",
              "      <th>NASDAQ.CSCO</th>\n",
              "      <th>NASDAQ.EBAY</th>\n",
              "    </tr>\n",
              "  </thead>\n",
              "  <tbody>\n",
              "    <tr>\n",
              "      <th>0</th>\n",
              "      <td>1491226200</td>\n",
              "      <td>143.6800</td>\n",
              "      <td>102.2300</td>\n",
              "      <td>81.03</td>\n",
              "      <td>33.7400</td>\n",
              "      <td>33.3975</td>\n",
              "    </tr>\n",
              "    <tr>\n",
              "      <th>1</th>\n",
              "      <td>1491226260</td>\n",
              "      <td>143.7000</td>\n",
              "      <td>102.1400</td>\n",
              "      <td>81.21</td>\n",
              "      <td>33.8800</td>\n",
              "      <td>33.3950</td>\n",
              "    </tr>\n",
              "    <tr>\n",
              "      <th>2</th>\n",
              "      <td>1491226320</td>\n",
              "      <td>143.6901</td>\n",
              "      <td>102.2125</td>\n",
              "      <td>81.21</td>\n",
              "      <td>33.9000</td>\n",
              "      <td>33.4100</td>\n",
              "    </tr>\n",
              "    <tr>\n",
              "      <th>3</th>\n",
              "      <td>1491226380</td>\n",
              "      <td>143.6400</td>\n",
              "      <td>102.1400</td>\n",
              "      <td>81.13</td>\n",
              "      <td>33.8499</td>\n",
              "      <td>33.3350</td>\n",
              "    </tr>\n",
              "    <tr>\n",
              "      <th>4</th>\n",
              "      <td>1491226440</td>\n",
              "      <td>143.6600</td>\n",
              "      <td>102.0600</td>\n",
              "      <td>81.12</td>\n",
              "      <td>33.8400</td>\n",
              "      <td>33.4000</td>\n",
              "    </tr>\n",
              "  </tbody>\n",
              "</table>\n",
              "</div>"
            ],
            "text/plain": [
              "         DATE  NASDAQ.AAPL  NASDAQ.ADP  NASDAQ.CBOE  NASDAQ.CSCO  NASDAQ.EBAY\n",
              "0  1491226200     143.6800    102.2300        81.03      33.7400      33.3975\n",
              "1  1491226260     143.7000    102.1400        81.21      33.8800      33.3950\n",
              "2  1491226320     143.6901    102.2125        81.21      33.9000      33.4100\n",
              "3  1491226380     143.6400    102.1400        81.13      33.8499      33.3350\n",
              "4  1491226440     143.6600    102.0600        81.12      33.8400      33.4000"
            ]
          },
          "metadata": {
            "tags": []
          },
          "execution_count": 6
        }
      ]
    },
    {
      "cell_type": "code",
      "metadata": {
        "colab": {
          "base_uri": "https://localhost:8080/"
        },
        "id": "m5eFzHuStQCC",
        "outputId": "97d0e852-fc3d-4b3c-9251-49846be3dfef"
      },
      "source": [
        "df1.isnull().sum()"
      ],
      "execution_count": 7,
      "outputs": [
        {
          "output_type": "execute_result",
          "data": {
            "text/plain": [
              "DATE           0\n",
              "NASDAQ.AAPL    0\n",
              "NASDAQ.ADP     0\n",
              "NASDAQ.CBOE    0\n",
              "NASDAQ.CSCO    0\n",
              "NASDAQ.EBAY    0\n",
              "dtype: int64"
            ]
          },
          "metadata": {
            "tags": []
          },
          "execution_count": 7
        }
      ]
    },
    {
      "cell_type": "code",
      "metadata": {
        "colab": {
          "base_uri": "https://localhost:8080/",
          "height": 297
        },
        "id": "AxAO4GeVuAU0",
        "outputId": "c3cf364f-abcf-4263-f802-ea654ad44769"
      },
      "source": [
        "df1['DATE'] = pd.to_datetime(df['DATE'], unit='s')\r\n",
        "df1.head()"
      ],
      "execution_count": 9,
      "outputs": [
        {
          "output_type": "stream",
          "text": [
            "/usr/local/lib/python3.6/dist-packages/ipykernel_launcher.py:1: SettingWithCopyWarning: \n",
            "A value is trying to be set on a copy of a slice from a DataFrame.\n",
            "Try using .loc[row_indexer,col_indexer] = value instead\n",
            "\n",
            "See the caveats in the documentation: https://pandas.pydata.org/pandas-docs/stable/user_guide/indexing.html#returning-a-view-versus-a-copy\n",
            "  \"\"\"Entry point for launching an IPython kernel.\n"
          ],
          "name": "stderr"
        },
        {
          "output_type": "execute_result",
          "data": {
            "text/html": [
              "<div>\n",
              "<style scoped>\n",
              "    .dataframe tbody tr th:only-of-type {\n",
              "        vertical-align: middle;\n",
              "    }\n",
              "\n",
              "    .dataframe tbody tr th {\n",
              "        vertical-align: top;\n",
              "    }\n",
              "\n",
              "    .dataframe thead th {\n",
              "        text-align: right;\n",
              "    }\n",
              "</style>\n",
              "<table border=\"1\" class=\"dataframe\">\n",
              "  <thead>\n",
              "    <tr style=\"text-align: right;\">\n",
              "      <th></th>\n",
              "      <th>DATE</th>\n",
              "      <th>NASDAQ.AAPL</th>\n",
              "      <th>NASDAQ.ADP</th>\n",
              "      <th>NASDAQ.CBOE</th>\n",
              "      <th>NASDAQ.CSCO</th>\n",
              "      <th>NASDAQ.EBAY</th>\n",
              "    </tr>\n",
              "  </thead>\n",
              "  <tbody>\n",
              "    <tr>\n",
              "      <th>0</th>\n",
              "      <td>2017-04-03 13:30:00</td>\n",
              "      <td>143.6800</td>\n",
              "      <td>102.2300</td>\n",
              "      <td>81.03</td>\n",
              "      <td>33.7400</td>\n",
              "      <td>33.3975</td>\n",
              "    </tr>\n",
              "    <tr>\n",
              "      <th>1</th>\n",
              "      <td>2017-04-03 13:31:00</td>\n",
              "      <td>143.7000</td>\n",
              "      <td>102.1400</td>\n",
              "      <td>81.21</td>\n",
              "      <td>33.8800</td>\n",
              "      <td>33.3950</td>\n",
              "    </tr>\n",
              "    <tr>\n",
              "      <th>2</th>\n",
              "      <td>2017-04-03 13:32:00</td>\n",
              "      <td>143.6901</td>\n",
              "      <td>102.2125</td>\n",
              "      <td>81.21</td>\n",
              "      <td>33.9000</td>\n",
              "      <td>33.4100</td>\n",
              "    </tr>\n",
              "    <tr>\n",
              "      <th>3</th>\n",
              "      <td>2017-04-03 13:33:00</td>\n",
              "      <td>143.6400</td>\n",
              "      <td>102.1400</td>\n",
              "      <td>81.13</td>\n",
              "      <td>33.8499</td>\n",
              "      <td>33.3350</td>\n",
              "    </tr>\n",
              "    <tr>\n",
              "      <th>4</th>\n",
              "      <td>2017-04-03 13:34:00</td>\n",
              "      <td>143.6600</td>\n",
              "      <td>102.0600</td>\n",
              "      <td>81.12</td>\n",
              "      <td>33.8400</td>\n",
              "      <td>33.4000</td>\n",
              "    </tr>\n",
              "  </tbody>\n",
              "</table>\n",
              "</div>"
            ],
            "text/plain": [
              "                 DATE  NASDAQ.AAPL  ...  NASDAQ.CSCO  NASDAQ.EBAY\n",
              "0 2017-04-03 13:30:00     143.6800  ...      33.7400      33.3975\n",
              "1 2017-04-03 13:31:00     143.7000  ...      33.8800      33.3950\n",
              "2 2017-04-03 13:32:00     143.6901  ...      33.9000      33.4100\n",
              "3 2017-04-03 13:33:00     143.6400  ...      33.8499      33.3350\n",
              "4 2017-04-03 13:34:00     143.6600  ...      33.8400      33.4000\n",
              "\n",
              "[5 rows x 6 columns]"
            ]
          },
          "metadata": {
            "tags": []
          },
          "execution_count": 9
        }
      ]
    },
    {
      "cell_type": "code",
      "metadata": {
        "colab": {
          "base_uri": "https://localhost:8080/"
        },
        "id": "AzFFqP8QuXjw",
        "outputId": "8950e742-ce7f-4ba6-ab9e-b03cf2eb11a6"
      },
      "source": [
        "df1['Month'] = df1['DATE'].dt.date "
      ],
      "execution_count": 10,
      "outputs": [
        {
          "output_type": "stream",
          "text": [
            "/usr/local/lib/python3.6/dist-packages/ipykernel_launcher.py:1: SettingWithCopyWarning: \n",
            "A value is trying to be set on a copy of a slice from a DataFrame.\n",
            "Try using .loc[row_indexer,col_indexer] = value instead\n",
            "\n",
            "See the caveats in the documentation: https://pandas.pydata.org/pandas-docs/stable/user_guide/indexing.html#returning-a-view-versus-a-copy\n",
            "  \"\"\"Entry point for launching an IPython kernel.\n"
          ],
          "name": "stderr"
        }
      ]
    },
    {
      "cell_type": "code",
      "metadata": {
        "colab": {
          "base_uri": "https://localhost:8080/",
          "height": 197
        },
        "id": "kg1U-Tfju01-",
        "outputId": "8231640f-48c0-4ac4-d822-7f09b6c5cc67"
      },
      "source": [
        "col = ['Month'] + features\r\n",
        "df2 = df1[col]\r\n",
        "df2.head()"
      ],
      "execution_count": 12,
      "outputs": [
        {
          "output_type": "execute_result",
          "data": {
            "text/html": [
              "<div>\n",
              "<style scoped>\n",
              "    .dataframe tbody tr th:only-of-type {\n",
              "        vertical-align: middle;\n",
              "    }\n",
              "\n",
              "    .dataframe tbody tr th {\n",
              "        vertical-align: top;\n",
              "    }\n",
              "\n",
              "    .dataframe thead th {\n",
              "        text-align: right;\n",
              "    }\n",
              "</style>\n",
              "<table border=\"1\" class=\"dataframe\">\n",
              "  <thead>\n",
              "    <tr style=\"text-align: right;\">\n",
              "      <th></th>\n",
              "      <th>Month</th>\n",
              "      <th>NASDAQ.AAPL</th>\n",
              "      <th>NASDAQ.ADP</th>\n",
              "      <th>NASDAQ.CBOE</th>\n",
              "      <th>NASDAQ.CSCO</th>\n",
              "      <th>NASDAQ.EBAY</th>\n",
              "    </tr>\n",
              "  </thead>\n",
              "  <tbody>\n",
              "    <tr>\n",
              "      <th>0</th>\n",
              "      <td>2017-04-03</td>\n",
              "      <td>143.6800</td>\n",
              "      <td>102.2300</td>\n",
              "      <td>81.03</td>\n",
              "      <td>33.7400</td>\n",
              "      <td>33.3975</td>\n",
              "    </tr>\n",
              "    <tr>\n",
              "      <th>1</th>\n",
              "      <td>2017-04-03</td>\n",
              "      <td>143.7000</td>\n",
              "      <td>102.1400</td>\n",
              "      <td>81.21</td>\n",
              "      <td>33.8800</td>\n",
              "      <td>33.3950</td>\n",
              "    </tr>\n",
              "    <tr>\n",
              "      <th>2</th>\n",
              "      <td>2017-04-03</td>\n",
              "      <td>143.6901</td>\n",
              "      <td>102.2125</td>\n",
              "      <td>81.21</td>\n",
              "      <td>33.9000</td>\n",
              "      <td>33.4100</td>\n",
              "    </tr>\n",
              "    <tr>\n",
              "      <th>3</th>\n",
              "      <td>2017-04-03</td>\n",
              "      <td>143.6400</td>\n",
              "      <td>102.1400</td>\n",
              "      <td>81.13</td>\n",
              "      <td>33.8499</td>\n",
              "      <td>33.3350</td>\n",
              "    </tr>\n",
              "    <tr>\n",
              "      <th>4</th>\n",
              "      <td>2017-04-03</td>\n",
              "      <td>143.6600</td>\n",
              "      <td>102.0600</td>\n",
              "      <td>81.12</td>\n",
              "      <td>33.8400</td>\n",
              "      <td>33.4000</td>\n",
              "    </tr>\n",
              "  </tbody>\n",
              "</table>\n",
              "</div>"
            ],
            "text/plain": [
              "        Month  NASDAQ.AAPL  NASDAQ.ADP  NASDAQ.CBOE  NASDAQ.CSCO  NASDAQ.EBAY\n",
              "0  2017-04-03     143.6800    102.2300        81.03      33.7400      33.3975\n",
              "1  2017-04-03     143.7000    102.1400        81.21      33.8800      33.3950\n",
              "2  2017-04-03     143.6901    102.2125        81.21      33.9000      33.4100\n",
              "3  2017-04-03     143.6400    102.1400        81.13      33.8499      33.3350\n",
              "4  2017-04-03     143.6600    102.0600        81.12      33.8400      33.4000"
            ]
          },
          "metadata": {
            "tags": []
          },
          "execution_count": 12
        }
      ]
    },
    {
      "cell_type": "code",
      "metadata": {
        "id": "dlXZMf3jvKVG"
      },
      "source": [
        "data = df2.copy()\r\n",
        "data['Month'] = pd.to_datetime(data['Month'])"
      ],
      "execution_count": 16,
      "outputs": []
    },
    {
      "cell_type": "code",
      "metadata": {
        "id": "5I2SqZQ2vjLg"
      },
      "source": [
        "# forecasting for NASDAQ.AAPL\r\n",
        "AAPL = data[['Month', features[0]]]"
      ],
      "execution_count": 17,
      "outputs": []
    },
    {
      "cell_type": "code",
      "metadata": {
        "colab": {
          "base_uri": "https://localhost:8080/",
          "height": 227
        },
        "id": "pU12zBirv3dm",
        "outputId": "3ce882d3-b50b-4de6-ac0b-1c449e48efc9"
      },
      "source": [
        "AAPL.set_index('Month', inplace=True)\r\n",
        "AAPL.head()"
      ],
      "execution_count": 18,
      "outputs": [
        {
          "output_type": "execute_result",
          "data": {
            "text/html": [
              "<div>\n",
              "<style scoped>\n",
              "    .dataframe tbody tr th:only-of-type {\n",
              "        vertical-align: middle;\n",
              "    }\n",
              "\n",
              "    .dataframe tbody tr th {\n",
              "        vertical-align: top;\n",
              "    }\n",
              "\n",
              "    .dataframe thead th {\n",
              "        text-align: right;\n",
              "    }\n",
              "</style>\n",
              "<table border=\"1\" class=\"dataframe\">\n",
              "  <thead>\n",
              "    <tr style=\"text-align: right;\">\n",
              "      <th></th>\n",
              "      <th>NASDAQ.AAPL</th>\n",
              "    </tr>\n",
              "    <tr>\n",
              "      <th>Month</th>\n",
              "      <th></th>\n",
              "    </tr>\n",
              "  </thead>\n",
              "  <tbody>\n",
              "    <tr>\n",
              "      <th>2017-04-03</th>\n",
              "      <td>143.6800</td>\n",
              "    </tr>\n",
              "    <tr>\n",
              "      <th>2017-04-03</th>\n",
              "      <td>143.7000</td>\n",
              "    </tr>\n",
              "    <tr>\n",
              "      <th>2017-04-03</th>\n",
              "      <td>143.6901</td>\n",
              "    </tr>\n",
              "    <tr>\n",
              "      <th>2017-04-03</th>\n",
              "      <td>143.6400</td>\n",
              "    </tr>\n",
              "    <tr>\n",
              "      <th>2017-04-03</th>\n",
              "      <td>143.6600</td>\n",
              "    </tr>\n",
              "  </tbody>\n",
              "</table>\n",
              "</div>"
            ],
            "text/plain": [
              "            NASDAQ.AAPL\n",
              "Month                  \n",
              "2017-04-03     143.6800\n",
              "2017-04-03     143.7000\n",
              "2017-04-03     143.6901\n",
              "2017-04-03     143.6400\n",
              "2017-04-03     143.6600"
            ]
          },
          "metadata": {
            "tags": []
          },
          "execution_count": 18
        }
      ]
    },
    {
      "cell_type": "code",
      "metadata": {
        "colab": {
          "base_uri": "https://localhost:8080/",
          "height": 293
        },
        "id": "AZpdZaSBwGCE",
        "outputId": "b61b12db-27a8-45fe-9a7a-cc12c887cc8e"
      },
      "source": [
        "AAPL.plot()"
      ],
      "execution_count": 19,
      "outputs": [
        {
          "output_type": "execute_result",
          "data": {
            "text/plain": [
              "<matplotlib.axes._subplots.AxesSubplot at 0x7fef4e556710>"
            ]
          },
          "metadata": {
            "tags": []
          },
          "execution_count": 19
        },
        {
          "output_type": "display_data",
          "data": {
            "image/png": "[encoded data removed]",
            "text/plain": [
              "<Figure size 432x288 with 1 Axes>"
            ]
          },
          "metadata": {
            "tags": [],
            "needs_background": "light"
          }
        }
      ]
    },
    {
      "cell_type": "code",
      "metadata": {
        "colab": {
          "base_uri": "https://localhost:8080/",
          "height": 541
        },
        "id": "GA3wggc9yLGB",
        "outputId": "0fcbc3a4-1726-4b47-d495-e3682e6a6408"
      },
      "source": [
        "# Stationary means mean,variance and covariance is constant over periods.\r\n",
        "\r\n",
        "plot_pacf(AAPL)"
      ],
      "execution_count": 24,
      "outputs": [
        {
          "output_type": "execute_result",
          "data": {
            "image/png": "[encoded data removed]",
            "text/plain": [
              "<Figure size 432x288 with 1 Axes>"
            ]
          },
          "metadata": {
            "tags": []
          },
          "execution_count": 24
        },
        {
          "output_type": "display_data",
          "data": {
            "image/png": "[encoded data removed]",
            "text/plain": [
              "<Figure size 432x288 with 1 Axes>"
            ]
          },
          "metadata": {
            "tags": [],
            "needs_background": "light"
          }
        }
      ]
    },
    {
      "cell_type": "code",
      "metadata": {
        "colab": {
          "base_uri": "https://localhost:8080/",
          "height": 436
        },
        "id": "rea5nsFyyfL9",
        "outputId": "7ad51a3f-166c-4615-b8d8-968c8f6f3c37"
      },
      "source": [
        "# convert series to stationary\r\n",
        "AAPL.shift(1)"
      ],
      "execution_count": 25,
      "outputs": [
        {
          "output_type": "execute_result",
          "data": {
            "text/html": [
              "<div>\n",
              "<style scoped>\n",
              "    .dataframe tbody tr th:only-of-type {\n",
              "        vertical-align: middle;\n",
              "    }\n",
              "\n",
              "    .dataframe tbody tr th {\n",
              "        vertical-align: top;\n",
              "    }\n",
              "\n",
              "    .dataframe thead th {\n",
              "        text-align: right;\n",
              "    }\n",
              "</style>\n",
              "<table border=\"1\" class=\"dataframe\">\n",
              "  <thead>\n",
              "    <tr style=\"text-align: right;\">\n",
              "      <th></th>\n",
              "      <th>NASDAQ.AAPL</th>\n",
              "    </tr>\n",
              "    <tr>\n",
              "      <th>Month</th>\n",
              "      <th></th>\n",
              "    </tr>\n",
              "  </thead>\n",
              "  <tbody>\n",
              "    <tr>\n",
              "      <th>2017-04-03</th>\n",
              "      <td>NaN</td>\n",
              "    </tr>\n",
              "    <tr>\n",
              "      <th>2017-04-03</th>\n",
              "      <td>143.6800</td>\n",
              "    </tr>\n",
              "    <tr>\n",
              "      <th>2017-04-03</th>\n",
              "      <td>143.7000</td>\n",
              "    </tr>\n",
              "    <tr>\n",
              "      <th>2017-04-03</th>\n",
              "      <td>143.6901</td>\n",
              "    </tr>\n",
              "    <tr>\n",
              "      <th>2017-04-03</th>\n",
              "      <td>143.6400</td>\n",
              "    </tr>\n",
              "    <tr>\n",
              "      <th>...</th>\n",
              "      <td>...</td>\n",
              "    </tr>\n",
              "    <tr>\n",
              "      <th>2017-08-31</th>\n",
              "      <td>164.1400</td>\n",
              "    </tr>\n",
              "    <tr>\n",
              "      <th>2017-08-31</th>\n",
              "      <td>164.1100</td>\n",
              "    </tr>\n",
              "    <tr>\n",
              "      <th>2017-08-31</th>\n",
              "      <td>164.1200</td>\n",
              "    </tr>\n",
              "    <tr>\n",
              "      <th>2017-08-31</th>\n",
              "      <td>164.0100</td>\n",
              "    </tr>\n",
              "    <tr>\n",
              "      <th>2017-08-31</th>\n",
              "      <td>163.8800</td>\n",
              "    </tr>\n",
              "  </tbody>\n",
              "</table>\n",
              "<p>41266 rows × 1 columns</p>\n",
              "</div>"
            ],
            "text/plain": [
              "            NASDAQ.AAPL\n",
              "Month                  \n",
              "2017-04-03          NaN\n",
              "2017-04-03     143.6800\n",
              "2017-04-03     143.7000\n",
              "2017-04-03     143.6901\n",
              "2017-04-03     143.6400\n",
              "...                 ...\n",
              "2017-08-31     164.1400\n",
              "2017-08-31     164.1100\n",
              "2017-08-31     164.1200\n",
              "2017-08-31     164.0100\n",
              "2017-08-31     163.8800\n",
              "\n",
              "[41266 rows x 1 columns]"
            ]
          },
          "metadata": {
            "tags": []
          },
          "execution_count": 25
        }
      ]
    },
    {
      "cell_type": "code",
      "metadata": {
        "colab": {
          "base_uri": "https://localhost:8080/"
        },
        "id": "DE8XFAqozZgr",
        "outputId": "8cf8af20-362a-462e-d023-5a7a95be800f"
      },
      "source": [
        "X = AAPL.values\r\n",
        "train = X[0:28886] # 27 data as train data\r\n",
        "test = X[28886:] # 9 data as test data\r\n",
        "print(train.size)\r\n",
        "print(test.size)\r\n",
        "predictions = []"
      ],
      "execution_count": 26,
      "outputs": [
        {
          "output_type": "stream",
          "text": [
            "28886\n",
            "12380\n"
          ],
          "name": "stdout"
        }
      ]
    },
    {
      "cell_type": "markdown",
      "metadata": {
        "id": "gny3GeyfzzM6"
      },
      "source": [
        "### ARIMA model"
      ]
    },
    {
      "cell_type": "code",
      "metadata": {
        "id": "JyqE3-vFz3iS"
      },
      "source": [
        "import itertools\r\n",
        "p=d=q=range(0,6)\r\n",
        "pdq=list(itertools.product(p,d,q))"
      ],
      "execution_count": 27,
      "outputs": []
    },
    {
      "cell_type": "code",
      "metadata": {
        "colab": {
          "base_uri": "https://localhost:8080/"
        },
        "id": "C-3gV2WIz4xy",
        "outputId": "b6fe49ee-27f9-44b8-fd2d-b54899ddc0fb"
      },
      "source": [
        "import warnings\r\n",
        "warnings.filterwarnings('ignore')\r\n",
        "for param in pdq:\r\n",
        "    try:\r\n",
        "        model_arima = ARIMA(train, order=param)\r\n",
        "        model_arima_fit = model_arima.fit()\r\n",
        "        print(param,model_arima_fit.aic)\r\n",
        "    except:\r\n",
        "        continue"
      ],
      "execution_count": 28,
      "outputs": [
        {
          "output_type": "stream",
          "text": [
            "(0, 0, 0) 170326.9720446082\n",
            "(0, 0, 1) 131018.03599865251\n",
            "(0, 0, 2) 95780.67244459385\n",
            "(0, 1, 0) -64708.712006361384\n",
            "(0, 1, 1) -64706.8773153409\n",
            "(0, 1, 2) -64718.286096672164\n",
            "(0, 1, 3) -64719.67999909348\n",
            "(0, 1, 4) -64724.746502434966\n",
            "(0, 1, 5) -64723.27395737222\n",
            "(0, 2, 0) -44617.132207470175\n",
            "(0, 2, 1) -64678.284486396515\n",
            "(1, 0, 0) -64703.106010175194\n",
            "(1, 0, 1) -64701.25996864913\n",
            "(1, 0, 2) -64712.5673838841\n",
            "(1, 0, 3) -64714.01381575866\n",
            "(1, 0, 4) -64719.007413574145\n",
            "(1, 0, 5) -64717.516473395575\n",
            "(1, 1, 0) -64706.87029558887\n",
            "(1, 1, 1) -64714.63157446154\n",
            "(1, 1, 2) -64725.38695947903\n",
            "(1, 2, 0) -52566.60024359125\n",
            "(1, 2, 1) -64686.65886623964\n",
            "(1, 2, 2) -64694.13072215939\n",
            "(1, 2, 3) -64689.77042366289\n",
            "(1, 2, 4) -64699.29773593451\n",
            "(1, 2, 5) -64699.32708949155\n",
            "(2, 0, 0) -64701.25345516886\n",
            "(2, 0, 1) -64709.05736467696\n",
            "(2, 0, 2) -64719.706396922964\n",
            "(2, 0, 3) -64717.71698047986\n",
            "(2, 0, 4) -64716.79946405871\n",
            "(2, 0, 5) -64715.50400907954\n",
            "(2, 1, 0) -64717.93086809853\n",
            "(2, 1, 1) -64725.403060836645\n",
            "(2, 2, 0) -56350.1787720234\n",
            "(2, 2, 1) -64659.7701411833\n",
            "(2, 2, 2) -64677.4994814559\n",
            "(2, 2, 3) -64691.53108730436\n",
            "(2, 2, 4) -64685.85101559288\n",
            "(2, 2, 5) -64693.697380008045\n",
            "(3, 0, 0) -64712.2154735387\n",
            "(3, 0, 1) -64719.72556122951\n",
            "(3, 0, 2) -64717.7365332944\n",
            "(3, 0, 3) -64716.716995844996\n",
            "(3, 0, 4) -64716.655014167365\n",
            "(3, 0, 5) -64715.34062736368\n",
            "(3, 1, 0) -64719.318969943546\n",
            "(3, 1, 1) -64723.40583157491\n",
            "(3, 1, 2) -64722.5480486446\n",
            "(3, 1, 3) -64730.23106387876\n",
            "(3, 2, 0) -58063.13991574118\n",
            "(3, 2, 1) -64689.62201453211\n",
            "(3, 2, 2) -64694.61210554255\n",
            "(3, 2, 3) -64683.62560013223\n",
            "(3, 2, 4) -64690.809676263496\n",
            "(3, 2, 5) -64691.41626862179\n",
            "(4, 0, 0) -64713.6538329506\n",
            "(4, 0, 1) -64717.72973940009\n",
            "(4, 0, 2) -64716.8028092442\n",
            "(4, 0, 3) -64724.483247939526\n",
            "(4, 0, 4) -64738.84021962856\n",
            "(4, 0, 5) -64736.696543737955\n",
            "(4, 1, 0) -64724.018654584754\n",
            "(4, 1, 1) -64723.51089430174\n",
            "(4, 1, 2) -64722.382633696296\n",
            "(4, 1, 3) -64773.09216665565\n",
            "(4, 1, 4) -64744.94385678823\n",
            "(4, 2, 0) -59269.36850052043\n",
            "(4, 2, 1) -64692.38156622033\n",
            "(4, 2, 2) -64638.80750400828\n",
            "(4, 2, 3) -64710.76681896487\n",
            "(4, 2, 4) -64687.91939112953\n",
            "(4, 2, 5) -64698.82963502298\n",
            "(5, 0, 0) -64718.283593692264\n",
            "(5, 0, 1) -64716.7328894331\n",
            "(5, 0, 2) -64716.6186041013\n",
            "(5, 0, 3) -64741.039079093374\n",
            "(5, 0, 4) -64731.612001928705\n",
            "(5, 0, 5) -64737.1879436404\n",
            "(5, 1, 0) -64722.57419426074\n",
            "(5, 1, 1) -64721.560227707276\n",
            "(5, 1, 2) -64721.03844538501\n",
            "(5, 1, 3) -64726.31980648353\n",
            "(5, 1, 4) -64742.96667985078\n",
            "(5, 2, 0) -60006.914815063225\n",
            "(5, 2, 1) -64703.68834442877\n",
            "(5, 2, 2) -64691.05571305919\n",
            "(5, 2, 3) -64625.265410651264\n",
            "(5, 2, 4) -64646.656344242205\n",
            "(5, 2, 5) -64654.67003685482\n"
          ],
          "name": "stdout"
        }
      ]
    },
    {
      "cell_type": "code",
      "metadata": {
        "colab": {
          "base_uri": "https://localhost:8080/"
        },
        "id": "4EhN76W5z_ra",
        "outputId": "9c2f59c9-144b-41ae-f35b-7993bd6490f6"
      },
      "source": [
        "#p,d,q \r\n",
        "#p -> Periods taken for auto regressive model\r\n",
        "#d -> Integrated order, difference\r\n",
        "#q -> Periods in moving average model\r\n",
        "model_arima = ARIMA(train, order=(3,1,3))\r\n",
        "model_arima_fit = model_arima.fit()\r\n",
        "print(model_arima_fit.aic)"
      ],
      "execution_count": 30,
      "outputs": [
        {
          "output_type": "stream",
          "text": [
            "-64730.23106387876\n"
          ],
          "name": "stdout"
        }
      ]
    },
    {
      "cell_type": "code",
      "metadata": {
        "colab": {
          "base_uri": "https://localhost:8080/"
        },
        "id": "Dnbg_2_A8n24",
        "outputId": "e0fa3b54-af0e-4f9c-8714-1f0997ad0c27"
      },
      "source": [
        "predictions = model_arima_fit.forecast(steps=12380)[0]\r\n",
        "predictions"
      ],
      "execution_count": 31,
      "outputs": [
        {
          "output_type": "execute_result",
          "data": {
            "text/plain": [
              "array([150.61065422, 150.61166805, 150.6121023 , ..., 153.58211214,\n",
              "       153.58235211, 153.58259208])"
            ]
          },
          "metadata": {
            "tags": []
          },
          "execution_count": 31
        }
      ]
    },
    {
      "cell_type": "code",
      "metadata": {
        "colab": {
          "base_uri": "https://localhost:8080/",
          "height": 278
        },
        "id": "znB_-QK08oII",
        "outputId": "b85cb68b-e680-44e0-8ffd-085fb6300d38"
      },
      "source": [
        "plt.plot(test)\r\n",
        "plt.plot(predictions, color='red')"
      ],
      "execution_count": 32,
      "outputs": [
        {
          "output_type": "execute_result",
          "data": {
            "text/plain": [
              "[<matplotlib.lines.Line2D at 0x7fef4b00ae48>]"
            ]
          },
          "metadata": {
            "tags": []
          },
          "execution_count": 32
        },
        {
          "output_type": "display_data",
          "data": {
            "image/png": "[encoded data removed]",
            "text/plain": [
              "<Figure size 432x288 with 1 Axes>"
            ]
          },
          "metadata": {
            "tags": [],
            "needs_background": "light"
          }
        }
      ]
    },
    {
      "cell_type": "code",
      "metadata": {
        "colab": {
          "base_uri": "https://localhost:8080/"
        },
        "id": "crr6h8T88oRH",
        "outputId": "acf52091-dcd9-4f55-b078-181a453c967e"
      },
      "source": [
        "from sklearn.metrics import mean_squared_error\r\n",
        "mean_squared_error(test,predictions)"
      ],
      "execution_count": 34,
      "outputs": [
        {
          "output_type": "execute_result",
          "data": {
            "text/plain": [
              "37.57177959799861"
            ]
          },
          "metadata": {
            "tags": []
          },
          "execution_count": 34
        }
      ]
    },
    {
      "cell_type": "markdown",
      "metadata": {
        "id": "Ja01o3Dl84d_"
      },
      "source": [
        "### I've done forecasting only for NASDAQ.AAPL because of the long train time on my slow cpu. But it's similar for other stocks."
      ]
    }
  ]
}